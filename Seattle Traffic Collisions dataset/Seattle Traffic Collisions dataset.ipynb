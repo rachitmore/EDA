{
 "cells": [
  {
   "cell_type": "code",
   "execution_count": 1,
   "id": "7fd424e7",
   "metadata": {},
   "outputs": [],
   "source": [
    "# Step 1: Import Libraries\n",
    "import pandas as pd\n",
    "import numpy as np\n",
    "import matplotlib.pyplot as plt\n",
    "import seaborn as sns\n",
    "\n",
    "# Set visualization style\n",
    "sns.set(style='whitegrid')\n"
   ]
  },
  {
   "cell_type": "code",
   "execution_count": 3,
   "id": "89046a07",
   "metadata": {},
   "outputs": [],
   "source": [
    "# Step 2: Load the Data\n",
    "# Load the dataset\n",
    "url = 'https://data.cityofnewyork.us/api/odata/v4/hhsa-x92p'\n",
    "df = pd.read_csv(url)\n"
   ]
  },
  {
   "cell_type": "code",
   "execution_count": 4,
   "id": "e5de37cf",
   "metadata": {},
   "outputs": [
    {
     "name": "stdout",
     "output_type": "stream",
     "text": [
      "Empty DataFrame\n",
      "Columns: [{\"@odata.context\":\"https://data.cityofnewyork.us/api/odata/v4/$metadata#hhsa-x92p\", value:[{\"__id\":\"row-nnpb-ei95.bzv4\", crash_date:\"2021-04-13T00:00:00.000\", crash_time:\"0:00\", borough:\"BROOKLYN\", zip_code:\"11222\", latitude:40.7264440, longitude:-73.9523300, location:{\"type\":\"Point\", coordinates:[-73.95233, 40.726444]}, location_address:null, location_city:null, location_state:null, location_zip:null, on_street_name:null, off_street_name:null, cross_street_name:\"745       MANHATTAN AVENUE              \", number_of_persons_injured:0, number_of_persons_killed:0, number_of_pedestrians_injured:0, number_of_pedestrians_killed:0, number_of_cyclist_injured:0, number_of_cyclist_killed:0, number_of_motorist_injured:0, number_of_motorist_killed:0, contributing_factor_vehicle_1:\"Passing Too Closely\", contributing_factor_vehicle_2:\"Unspecified\", contributing_factor_vehicle_3:null, contributing_factor_vehicle_4:null, contributing_factor_vehicle_5:null, collision_id:4406876, vehicle_type_code1:\"AMBULANCE\", vehicle_type_code2:\"Van\", vehicle_type_code_3:null, vehicle_type_code_4:null, vehicle_type_code_5:null}, {\"__id\":\"row-7dfe.7wkv_924c\", crash_date:\"2021-04-13T00:00:00.000\".1, crash_time:\"0:00\".1, borough:\"BROOKLYN\".1, zip_code:\"11231\", latitude:40.6785240, longitude:-74.0021000, location:{\"type\":\"Point\".1, coordinates:[-74.0021, 40.678524]}, location_address:null.1, location_city:null.1, location_state:null.1, location_zip:null.1, on_street_name:null.1, off_street_name:null.1, cross_street_name:\"667       HENRY STREET                  \", number_of_persons_injured:0.1, number_of_persons_killed:0.1, number_of_pedestrians_injured:0.1, number_of_pedestrians_killed:0.1, number_of_cyclist_injured:0.1, number_of_cyclist_killed:0.1, number_of_motorist_injured:0.1, number_of_motorist_killed:0.1, contributing_factor_vehicle_1:\"Unspecified\", contributing_factor_vehicle_2:null, contributing_factor_vehicle_3:null.1, contributing_factor_vehicle_4:null.1, contributing_factor_vehicle_5:null.1, collision_id:4407150, vehicle_type_code1:\"Station Wagon/Sport Utility Vehicle\", vehicle_type_code2:null, vehicle_type_code_3:null.1, vehicle_type_code_4:null.1, vehicle_type_code_5:null}.1, {\"__id\":\"row-i78k.y2wh-r5pc\", crash_date:\"2021-04-13T00:00:00.000\".2, crash_time:\"0:00\".2, borough:\"QUEENS\", zip_code:\"11420\", latitude:40.6774980, longitude:-73.8276000, location:{\"type\":\"Point\".2, coordinates:[-73.8276, 40.677498]}, location_address:null.2, location_city:null.2, location_state:null.2, location_zip:null.2, on_street_name:\"111 STREET                      \", off_street_name:\"ROCKAWAY BOULEVARD\", cross_street_name:null, number_of_persons_injured:0.2, number_of_persons_killed:0.2, number_of_pedestrians_injured:0.2, number_of_pedestrians_killed:0.2, number_of_cyclist_injured:0.2, number_of_cyclist_killed:0.2, number_of_motorist_injured:0.2, number_of_motorist_killed:0.2, contributing_factor_vehicle_1:\"Other Vehicular\", contributing_factor_vehicle_2:\"Following Too Closely\", ...]\n",
      "Index: []\n",
      "\n",
      "[0 rows x 35842 columns]\n",
      "<class 'pandas.core.frame.DataFrame'>\n",
      "RangeIndex: 0 entries\n",
      "Columns: 35842 entries, {\"@odata.context\":\"https://data.cityofnewyork.us/api/odata/v4/$metadata#hhsa-x92p\" to @odata.nextLink:\"https://data.cityofnewyork.us/api/odata/v4/hhsa-x92p?$skiptoken=row-8qnt.nsmp-5uxy&$top=20000\"}\n",
      "dtypes: object(35842)\n",
      "memory usage: 132.0+ bytes\n",
      "None\n",
      "       {\"@odata.context\":\"https://data.cityofnewyork.us/api/odata/v4/$metadata#hhsa-x92p\"  \\\n",
      "count                                                   0                                   \n",
      "unique                                                  0                                   \n",
      "top                                                   NaN                                   \n",
      "freq                                                  NaN                                   \n",
      "\n",
      "       value:[{\"__id\":\"row-nnpb-ei95.bzv4\"  \\\n",
      "count                                    0   \n",
      "unique                                   0   \n",
      "top                                    NaN   \n",
      "freq                                   NaN   \n",
      "\n",
      "       crash_date:\"2021-04-13T00:00:00.000\" crash_time:\"0:00\"  \\\n",
      "count                                     0                 0   \n",
      "unique                                    0                 0   \n",
      "top                                     NaN               NaN   \n",
      "freq                                    NaN               NaN   \n",
      "\n",
      "       borough:\"BROOKLYN\" zip_code:\"11222\" latitude:40.7264440  \\\n",
      "count                   0                0                   0   \n",
      "unique                  0                0                   0   \n",
      "top                   NaN              NaN                 NaN   \n",
      "freq                  NaN              NaN                 NaN   \n",
      "\n",
      "       longitude:-73.9523300 location:{\"type\":\"Point\" coordinates:[-73.95233  \\\n",
      "count                      0                        0                      0   \n",
      "unique                     0                        0                      0   \n",
      "top                      NaN                      NaN                    NaN   \n",
      "freq                     NaN                      NaN                    NaN   \n",
      "\n",
      "        ... contributing_factor_vehicle_3:null.889  \\\n",
      "count   ...                                      0   \n",
      "unique  ...                                      0   \n",
      "top     ...                                    NaN   \n",
      "freq    ...                                    NaN   \n",
      "\n",
      "       contributing_factor_vehicle_4:null.974  \\\n",
      "count                                       0   \n",
      "unique                                      0   \n",
      "top                                       NaN   \n",
      "freq                                      NaN   \n",
      "\n",
      "       contributing_factor_vehicle_5:null.988 collision_id:4405884  \\\n",
      "count                                       0                    0   \n",
      "unique                                      0                    0   \n",
      "top                                       NaN                  NaN   \n",
      "freq                                      NaN                  NaN   \n",
      "\n",
      "       vehicle_type_code1:\"Bike\".8 vehicle_type_code2:\"Sedan\".311  \\\n",
      "count                            0                              0   \n",
      "unique                           0                              0   \n",
      "top                            NaN                            NaN   \n",
      "freq                           NaN                            NaN   \n",
      "\n",
      "       vehicle_type_code_3:null.896 vehicle_type_code_4:null.976  \\\n",
      "count                             0                            0   \n",
      "unique                            0                            0   \n",
      "top                             NaN                          NaN   \n",
      "freq                            NaN                          NaN   \n",
      "\n",
      "       vehicle_type_code_5:null}]  \\\n",
      "count                           0   \n",
      "unique                          0   \n",
      "top                           NaN   \n",
      "freq                          NaN   \n",
      "\n",
      "       @odata.nextLink:\"https://data.cityofnewyork.us/api/odata/v4/hhsa-x92p?$skiptoken=row-8qnt.nsmp-5uxy&$top=20000\"}  \n",
      "count                                                   0                                                                \n",
      "unique                                                  0                                                                \n",
      "top                                                   NaN                                                                \n",
      "freq                                                  NaN                                                                \n",
      "\n",
      "[4 rows x 35842 columns]\n"
     ]
    }
   ],
   "source": [
    "# Step 3: Understand the Data\n",
    "# Display the first few rows\n",
    "print(df.head())\n",
    "\n",
    "# Get basic information\n",
    "print(df.info())\n",
    "\n",
    "# Summary statistics\n",
    "print(df.describe(include='all'))\n"
   ]
  },
  {
   "cell_type": "code",
   "execution_count": 5,
   "id": "35708a57",
   "metadata": {},
   "outputs": [
    {
     "name": "stdout",
     "output_type": "stream",
     "text": [
      "{\"@odata.context\":\"https://data.cityofnewyork.us/api/odata/v4/$metadata#hhsa-x92p\"                                  0.0\n",
      "value:[{\"__id\":\"row-nnpb-ei95.bzv4\"                                                                                 0.0\n",
      "crash_date:\"2021-04-13T00:00:00.000\"                                                                                0.0\n",
      "crash_time:\"0:00\"                                                                                                   0.0\n",
      "borough:\"BROOKLYN\"                                                                                                  0.0\n",
      "                                                                                                                   ... \n",
      "vehicle_type_code2:\"Sedan\".311                                                                                      0.0\n",
      "vehicle_type_code_3:null.896                                                                                        0.0\n",
      "vehicle_type_code_4:null.976                                                                                        0.0\n",
      "vehicle_type_code_5:null}]                                                                                          0.0\n",
      "@odata.nextLink:\"https://data.cityofnewyork.us/api/odata/v4/hhsa-x92p?$skiptoken=row-8qnt.nsmp-5uxy&$top=20000\"}    0.0\n",
      "Length: 35842, dtype: float64\n"
     ]
    }
   ],
   "source": [
    "# Step 4: Handle Missing Data\n",
    "# Check for missing values\n",
    "print(df.isnull().sum())\n",
    "\n",
    "# Handle missing values\n",
    "# Drop rows with missing values or fill them with appropriate values\n",
    "df.dropna(inplace=True)  # Simplest approach, or you can use df.fillna() for imputation\n"
   ]
  },
  {
   "cell_type": "code",
   "execution_count": 6,
   "id": "4e669b8d",
   "metadata": {},
   "outputs": [
    {
     "ename": "ValueError",
     "evalue": "Could not interpret input 'SEVERITYCODE'",
     "output_type": "error",
     "traceback": [
      "\u001b[1;31m---------------------------------------------------------------------------\u001b[0m",
      "\u001b[1;31mValueError\u001b[0m                                Traceback (most recent call last)",
      "Cell \u001b[1;32mIn[6], line 3\u001b[0m\n\u001b[0;32m      1\u001b[0m \u001b[38;5;66;03m# Step 5: Data Visualization\u001b[39;00m\n\u001b[0;32m      2\u001b[0m \u001b[38;5;66;03m# Distribution of collision severities\u001b[39;00m\n\u001b[1;32m----> 3\u001b[0m sns\u001b[38;5;241m.\u001b[39mcountplot(x\u001b[38;5;241m=\u001b[39m\u001b[38;5;124m'\u001b[39m\u001b[38;5;124mSEVERITYCODE\u001b[39m\u001b[38;5;124m'\u001b[39m, data\u001b[38;5;241m=\u001b[39mdf)\n\u001b[0;32m      4\u001b[0m plt\u001b[38;5;241m.\u001b[39mtitle(\u001b[38;5;124m'\u001b[39m\u001b[38;5;124mDistribution of Collision Severities\u001b[39m\u001b[38;5;124m'\u001b[39m)\n\u001b[0;32m      5\u001b[0m plt\u001b[38;5;241m.\u001b[39mshow()\n",
      "File \u001b[1;32m~\\anaconda3\\Lib\\site-packages\\seaborn\\categorical.py:2943\u001b[0m, in \u001b[0;36mcountplot\u001b[1;34m(data, x, y, hue, order, hue_order, orient, color, palette, saturation, width, dodge, ax, **kwargs)\u001b[0m\n\u001b[0;32m   2940\u001b[0m \u001b[38;5;28;01melif\u001b[39;00m x \u001b[38;5;129;01mis\u001b[39;00m \u001b[38;5;129;01mnot\u001b[39;00m \u001b[38;5;28;01mNone\u001b[39;00m \u001b[38;5;129;01mand\u001b[39;00m y \u001b[38;5;129;01mis\u001b[39;00m \u001b[38;5;129;01mnot\u001b[39;00m \u001b[38;5;28;01mNone\u001b[39;00m:\n\u001b[0;32m   2941\u001b[0m     \u001b[38;5;28;01mraise\u001b[39;00m \u001b[38;5;167;01mValueError\u001b[39;00m(\u001b[38;5;124m\"\u001b[39m\u001b[38;5;124mCannot pass values for both `x` and `y`\u001b[39m\u001b[38;5;124m\"\u001b[39m)\n\u001b[1;32m-> 2943\u001b[0m plotter \u001b[38;5;241m=\u001b[39m _CountPlotter(\n\u001b[0;32m   2944\u001b[0m     x, y, hue, data, order, hue_order,\n\u001b[0;32m   2945\u001b[0m     estimator, errorbar, n_boot, units, seed,\n\u001b[0;32m   2946\u001b[0m     orient, color, palette, saturation,\n\u001b[0;32m   2947\u001b[0m     width, errcolor, errwidth, capsize, dodge\n\u001b[0;32m   2948\u001b[0m )\n\u001b[0;32m   2950\u001b[0m plotter\u001b[38;5;241m.\u001b[39mvalue_label \u001b[38;5;241m=\u001b[39m \u001b[38;5;124m\"\u001b[39m\u001b[38;5;124mcount\u001b[39m\u001b[38;5;124m\"\u001b[39m\n\u001b[0;32m   2952\u001b[0m \u001b[38;5;28;01mif\u001b[39;00m ax \u001b[38;5;129;01mis\u001b[39;00m \u001b[38;5;28;01mNone\u001b[39;00m:\n",
      "File \u001b[1;32m~\\anaconda3\\Lib\\site-packages\\seaborn\\categorical.py:1530\u001b[0m, in \u001b[0;36m_BarPlotter.__init__\u001b[1;34m(self, x, y, hue, data, order, hue_order, estimator, errorbar, n_boot, units, seed, orient, color, palette, saturation, width, errcolor, errwidth, capsize, dodge)\u001b[0m\n\u001b[0;32m   1525\u001b[0m \u001b[38;5;28;01mdef\u001b[39;00m \u001b[38;5;21m__init__\u001b[39m(\u001b[38;5;28mself\u001b[39m, x, y, hue, data, order, hue_order,\n\u001b[0;32m   1526\u001b[0m              estimator, errorbar, n_boot, units, seed,\n\u001b[0;32m   1527\u001b[0m              orient, color, palette, saturation, width,\n\u001b[0;32m   1528\u001b[0m              errcolor, errwidth, capsize, dodge):\n\u001b[0;32m   1529\u001b[0m \u001b[38;5;250m    \u001b[39m\u001b[38;5;124;03m\"\"\"Initialize the plotter.\"\"\"\u001b[39;00m\n\u001b[1;32m-> 1530\u001b[0m     \u001b[38;5;28mself\u001b[39m\u001b[38;5;241m.\u001b[39mestablish_variables(x, y, hue, data, orient,\n\u001b[0;32m   1531\u001b[0m                              order, hue_order, units)\n\u001b[0;32m   1532\u001b[0m     \u001b[38;5;28mself\u001b[39m\u001b[38;5;241m.\u001b[39mestablish_colors(color, palette, saturation)\n\u001b[0;32m   1533\u001b[0m     \u001b[38;5;28mself\u001b[39m\u001b[38;5;241m.\u001b[39mestimate_statistic(estimator, errorbar, n_boot, seed)\n",
      "File \u001b[1;32m~\\anaconda3\\Lib\\site-packages\\seaborn\\categorical.py:541\u001b[0m, in \u001b[0;36m_CategoricalPlotter.establish_variables\u001b[1;34m(self, x, y, hue, data, orient, order, hue_order, units)\u001b[0m\n\u001b[0;32m    539\u001b[0m     \u001b[38;5;28;01mif\u001b[39;00m \u001b[38;5;28misinstance\u001b[39m(var, \u001b[38;5;28mstr\u001b[39m):\n\u001b[0;32m    540\u001b[0m         err \u001b[38;5;241m=\u001b[39m \u001b[38;5;124mf\u001b[39m\u001b[38;5;124m\"\u001b[39m\u001b[38;5;124mCould not interpret input \u001b[39m\u001b[38;5;124m'\u001b[39m\u001b[38;5;132;01m{\u001b[39;00mvar\u001b[38;5;132;01m}\u001b[39;00m\u001b[38;5;124m'\u001b[39m\u001b[38;5;124m\"\u001b[39m\n\u001b[1;32m--> 541\u001b[0m         \u001b[38;5;28;01mraise\u001b[39;00m \u001b[38;5;167;01mValueError\u001b[39;00m(err)\n\u001b[0;32m    543\u001b[0m \u001b[38;5;66;03m# Figure out the plotting orientation\u001b[39;00m\n\u001b[0;32m    544\u001b[0m orient \u001b[38;5;241m=\u001b[39m infer_orient(\n\u001b[0;32m    545\u001b[0m     x, y, orient, require_numeric\u001b[38;5;241m=\u001b[39m\u001b[38;5;28mself\u001b[39m\u001b[38;5;241m.\u001b[39mrequire_numeric\n\u001b[0;32m    546\u001b[0m )\n",
      "\u001b[1;31mValueError\u001b[0m: Could not interpret input 'SEVERITYCODE'"
     ]
    }
   ],
   "source": [
    "# Step 5: Data Visualization\n",
    "# Distribution of collision severities\n",
    "sns.countplot(x='SEVERITYCODE', data=df)\n",
    "plt.title('Distribution of Collision Severities')\n",
    "plt.show()\n",
    "\n",
    "# Collisions by weather condition\n",
    "plt.figure(figsize=(12, 8))\n",
    "sns.countplot(y='WEATHER', data=df, order=df['WEATHER'].value_counts().index)\n",
    "plt.title('Collisions by Weather Condition')\n",
    "plt.show()\n",
    "\n",
    "# Collisions by road conditions\n",
    "plt.figure(figsize=(12, 8))\n",
    "sns.countplot(y='ROADCOND', data=df, order=df['ROADCOND'].value_counts().index)\n",
    "plt.title('Collisions by Road Condition')\n",
    "plt.show()\n",
    "\n",
    "# Collisions by day of the week\n",
    "df['DAYOFWEEK'] = pd.to_datetime(df['DATETIME']).dt.day_name()\n",
    "plt.figure(figsize=(12, 8))\n",
    "sns.countplot(y='DAYOFWEEK', data=df, order=['Monday', 'Tuesday', 'Wednesday', 'Thursday', 'Friday', 'Saturday', 'Sunday'])\n",
    "plt.title('Collisions by Day of the Week')\n",
    "plt.show()\n",
    "\n",
    "# Collisions over time\n",
    "df['DATE'] = pd.to_datetime(df['DATETIME']).dt.date\n",
    "plt.figure(figsize=(12, 8))\n",
    "df.groupby('DATE').size().plot()\n",
    "plt.title('Number of Collisions Over Time')\n",
    "plt.xlabel('Date')\n",
    "plt.ylabel('Number of Collisions')\n",
    "plt.show()\n"
   ]
  },
  {
   "cell_type": "code",
   "execution_count": 7,
   "id": "359f0bfa",
   "metadata": {},
   "outputs": [
    {
     "ename": "ValueError",
     "evalue": "Could not interpret input 'SEVERITYCODE'",
     "output_type": "error",
     "traceback": [
      "\u001b[1;31m---------------------------------------------------------------------------\u001b[0m",
      "\u001b[1;31mValueError\u001b[0m                                Traceback (most recent call last)",
      "Cell \u001b[1;32mIn[7], line 3\u001b[0m\n\u001b[0;32m      1\u001b[0m \u001b[38;5;66;03m# Step 6: Univariate Analysis\u001b[39;00m\n\u001b[0;32m      2\u001b[0m \u001b[38;5;66;03m# Distribution of collision severities\u001b[39;00m\n\u001b[1;32m----> 3\u001b[0m sns\u001b[38;5;241m.\u001b[39mcountplot(x\u001b[38;5;241m=\u001b[39m\u001b[38;5;124m'\u001b[39m\u001b[38;5;124mSEVERITYCODE\u001b[39m\u001b[38;5;124m'\u001b[39m, data\u001b[38;5;241m=\u001b[39mdf)\n\u001b[0;32m      4\u001b[0m plt\u001b[38;5;241m.\u001b[39mtitle(\u001b[38;5;124m'\u001b[39m\u001b[38;5;124mCollision Severity Distribution\u001b[39m\u001b[38;5;124m'\u001b[39m)\n\u001b[0;32m      5\u001b[0m plt\u001b[38;5;241m.\u001b[39mshow()\n",
      "File \u001b[1;32m~\\anaconda3\\Lib\\site-packages\\seaborn\\categorical.py:2943\u001b[0m, in \u001b[0;36mcountplot\u001b[1;34m(data, x, y, hue, order, hue_order, orient, color, palette, saturation, width, dodge, ax, **kwargs)\u001b[0m\n\u001b[0;32m   2940\u001b[0m \u001b[38;5;28;01melif\u001b[39;00m x \u001b[38;5;129;01mis\u001b[39;00m \u001b[38;5;129;01mnot\u001b[39;00m \u001b[38;5;28;01mNone\u001b[39;00m \u001b[38;5;129;01mand\u001b[39;00m y \u001b[38;5;129;01mis\u001b[39;00m \u001b[38;5;129;01mnot\u001b[39;00m \u001b[38;5;28;01mNone\u001b[39;00m:\n\u001b[0;32m   2941\u001b[0m     \u001b[38;5;28;01mraise\u001b[39;00m \u001b[38;5;167;01mValueError\u001b[39;00m(\u001b[38;5;124m\"\u001b[39m\u001b[38;5;124mCannot pass values for both `x` and `y`\u001b[39m\u001b[38;5;124m\"\u001b[39m)\n\u001b[1;32m-> 2943\u001b[0m plotter \u001b[38;5;241m=\u001b[39m _CountPlotter(\n\u001b[0;32m   2944\u001b[0m     x, y, hue, data, order, hue_order,\n\u001b[0;32m   2945\u001b[0m     estimator, errorbar, n_boot, units, seed,\n\u001b[0;32m   2946\u001b[0m     orient, color, palette, saturation,\n\u001b[0;32m   2947\u001b[0m     width, errcolor, errwidth, capsize, dodge\n\u001b[0;32m   2948\u001b[0m )\n\u001b[0;32m   2950\u001b[0m plotter\u001b[38;5;241m.\u001b[39mvalue_label \u001b[38;5;241m=\u001b[39m \u001b[38;5;124m\"\u001b[39m\u001b[38;5;124mcount\u001b[39m\u001b[38;5;124m\"\u001b[39m\n\u001b[0;32m   2952\u001b[0m \u001b[38;5;28;01mif\u001b[39;00m ax \u001b[38;5;129;01mis\u001b[39;00m \u001b[38;5;28;01mNone\u001b[39;00m:\n",
      "File \u001b[1;32m~\\anaconda3\\Lib\\site-packages\\seaborn\\categorical.py:1530\u001b[0m, in \u001b[0;36m_BarPlotter.__init__\u001b[1;34m(self, x, y, hue, data, order, hue_order, estimator, errorbar, n_boot, units, seed, orient, color, palette, saturation, width, errcolor, errwidth, capsize, dodge)\u001b[0m\n\u001b[0;32m   1525\u001b[0m \u001b[38;5;28;01mdef\u001b[39;00m \u001b[38;5;21m__init__\u001b[39m(\u001b[38;5;28mself\u001b[39m, x, y, hue, data, order, hue_order,\n\u001b[0;32m   1526\u001b[0m              estimator, errorbar, n_boot, units, seed,\n\u001b[0;32m   1527\u001b[0m              orient, color, palette, saturation, width,\n\u001b[0;32m   1528\u001b[0m              errcolor, errwidth, capsize, dodge):\n\u001b[0;32m   1529\u001b[0m \u001b[38;5;250m    \u001b[39m\u001b[38;5;124;03m\"\"\"Initialize the plotter.\"\"\"\u001b[39;00m\n\u001b[1;32m-> 1530\u001b[0m     \u001b[38;5;28mself\u001b[39m\u001b[38;5;241m.\u001b[39mestablish_variables(x, y, hue, data, orient,\n\u001b[0;32m   1531\u001b[0m                              order, hue_order, units)\n\u001b[0;32m   1532\u001b[0m     \u001b[38;5;28mself\u001b[39m\u001b[38;5;241m.\u001b[39mestablish_colors(color, palette, saturation)\n\u001b[0;32m   1533\u001b[0m     \u001b[38;5;28mself\u001b[39m\u001b[38;5;241m.\u001b[39mestimate_statistic(estimator, errorbar, n_boot, seed)\n",
      "File \u001b[1;32m~\\anaconda3\\Lib\\site-packages\\seaborn\\categorical.py:541\u001b[0m, in \u001b[0;36m_CategoricalPlotter.establish_variables\u001b[1;34m(self, x, y, hue, data, orient, order, hue_order, units)\u001b[0m\n\u001b[0;32m    539\u001b[0m     \u001b[38;5;28;01mif\u001b[39;00m \u001b[38;5;28misinstance\u001b[39m(var, \u001b[38;5;28mstr\u001b[39m):\n\u001b[0;32m    540\u001b[0m         err \u001b[38;5;241m=\u001b[39m \u001b[38;5;124mf\u001b[39m\u001b[38;5;124m\"\u001b[39m\u001b[38;5;124mCould not interpret input \u001b[39m\u001b[38;5;124m'\u001b[39m\u001b[38;5;132;01m{\u001b[39;00mvar\u001b[38;5;132;01m}\u001b[39;00m\u001b[38;5;124m'\u001b[39m\u001b[38;5;124m\"\u001b[39m\n\u001b[1;32m--> 541\u001b[0m         \u001b[38;5;28;01mraise\u001b[39;00m \u001b[38;5;167;01mValueError\u001b[39;00m(err)\n\u001b[0;32m    543\u001b[0m \u001b[38;5;66;03m# Figure out the plotting orientation\u001b[39;00m\n\u001b[0;32m    544\u001b[0m orient \u001b[38;5;241m=\u001b[39m infer_orient(\n\u001b[0;32m    545\u001b[0m     x, y, orient, require_numeric\u001b[38;5;241m=\u001b[39m\u001b[38;5;28mself\u001b[39m\u001b[38;5;241m.\u001b[39mrequire_numeric\n\u001b[0;32m    546\u001b[0m )\n",
      "\u001b[1;31mValueError\u001b[0m: Could not interpret input 'SEVERITYCODE'"
     ]
    }
   ],
   "source": [
    "# Step 6: Univariate Analysis\n",
    "# Distribution of collision severities\n",
    "sns.countplot(x='SEVERITYCODE', data=df)\n",
    "plt.title('Collision Severity Distribution')\n",
    "plt.show()\n",
    "\n",
    "# Distribution of weather conditions\n",
    "sns.countplot(y='WEATHER', data=df)\n",
    "plt.title('Weather Condition Distribution')\n",
    "plt.show()\n"
   ]
  },
  {
   "cell_type": "code",
   "execution_count": 8,
   "id": "c2c24020",
   "metadata": {},
   "outputs": [
    {
     "ename": "ValueError",
     "evalue": "Could not interpret input 'WEATHER'",
     "output_type": "error",
     "traceback": [
      "\u001b[1;31m---------------------------------------------------------------------------\u001b[0m",
      "\u001b[1;31mValueError\u001b[0m                                Traceback (most recent call last)",
      "Cell \u001b[1;32mIn[8], line 3\u001b[0m\n\u001b[0;32m      1\u001b[0m \u001b[38;5;66;03m# Step 7: Bivariate Analysis\u001b[39;00m\n\u001b[0;32m      2\u001b[0m \u001b[38;5;66;03m# Severity vs Weather Condition\u001b[39;00m\n\u001b[1;32m----> 3\u001b[0m sns\u001b[38;5;241m.\u001b[39mcountplot(x\u001b[38;5;241m=\u001b[39m\u001b[38;5;124m'\u001b[39m\u001b[38;5;124mWEATHER\u001b[39m\u001b[38;5;124m'\u001b[39m, hue\u001b[38;5;241m=\u001b[39m\u001b[38;5;124m'\u001b[39m\u001b[38;5;124mSEVERITYCODE\u001b[39m\u001b[38;5;124m'\u001b[39m, data\u001b[38;5;241m=\u001b[39mdf)\n\u001b[0;32m      4\u001b[0m plt\u001b[38;5;241m.\u001b[39mtitle(\u001b[38;5;124m'\u001b[39m\u001b[38;5;124mSeverity vs Weather Condition\u001b[39m\u001b[38;5;124m'\u001b[39m)\n\u001b[0;32m      5\u001b[0m plt\u001b[38;5;241m.\u001b[39mxticks(rotation\u001b[38;5;241m=\u001b[39m\u001b[38;5;241m90\u001b[39m)\n",
      "File \u001b[1;32m~\\anaconda3\\Lib\\site-packages\\seaborn\\categorical.py:2943\u001b[0m, in \u001b[0;36mcountplot\u001b[1;34m(data, x, y, hue, order, hue_order, orient, color, palette, saturation, width, dodge, ax, **kwargs)\u001b[0m\n\u001b[0;32m   2940\u001b[0m \u001b[38;5;28;01melif\u001b[39;00m x \u001b[38;5;129;01mis\u001b[39;00m \u001b[38;5;129;01mnot\u001b[39;00m \u001b[38;5;28;01mNone\u001b[39;00m \u001b[38;5;129;01mand\u001b[39;00m y \u001b[38;5;129;01mis\u001b[39;00m \u001b[38;5;129;01mnot\u001b[39;00m \u001b[38;5;28;01mNone\u001b[39;00m:\n\u001b[0;32m   2941\u001b[0m     \u001b[38;5;28;01mraise\u001b[39;00m \u001b[38;5;167;01mValueError\u001b[39;00m(\u001b[38;5;124m\"\u001b[39m\u001b[38;5;124mCannot pass values for both `x` and `y`\u001b[39m\u001b[38;5;124m\"\u001b[39m)\n\u001b[1;32m-> 2943\u001b[0m plotter \u001b[38;5;241m=\u001b[39m _CountPlotter(\n\u001b[0;32m   2944\u001b[0m     x, y, hue, data, order, hue_order,\n\u001b[0;32m   2945\u001b[0m     estimator, errorbar, n_boot, units, seed,\n\u001b[0;32m   2946\u001b[0m     orient, color, palette, saturation,\n\u001b[0;32m   2947\u001b[0m     width, errcolor, errwidth, capsize, dodge\n\u001b[0;32m   2948\u001b[0m )\n\u001b[0;32m   2950\u001b[0m plotter\u001b[38;5;241m.\u001b[39mvalue_label \u001b[38;5;241m=\u001b[39m \u001b[38;5;124m\"\u001b[39m\u001b[38;5;124mcount\u001b[39m\u001b[38;5;124m\"\u001b[39m\n\u001b[0;32m   2952\u001b[0m \u001b[38;5;28;01mif\u001b[39;00m ax \u001b[38;5;129;01mis\u001b[39;00m \u001b[38;5;28;01mNone\u001b[39;00m:\n",
      "File \u001b[1;32m~\\anaconda3\\Lib\\site-packages\\seaborn\\categorical.py:1530\u001b[0m, in \u001b[0;36m_BarPlotter.__init__\u001b[1;34m(self, x, y, hue, data, order, hue_order, estimator, errorbar, n_boot, units, seed, orient, color, palette, saturation, width, errcolor, errwidth, capsize, dodge)\u001b[0m\n\u001b[0;32m   1525\u001b[0m \u001b[38;5;28;01mdef\u001b[39;00m \u001b[38;5;21m__init__\u001b[39m(\u001b[38;5;28mself\u001b[39m, x, y, hue, data, order, hue_order,\n\u001b[0;32m   1526\u001b[0m              estimator, errorbar, n_boot, units, seed,\n\u001b[0;32m   1527\u001b[0m              orient, color, palette, saturation, width,\n\u001b[0;32m   1528\u001b[0m              errcolor, errwidth, capsize, dodge):\n\u001b[0;32m   1529\u001b[0m \u001b[38;5;250m    \u001b[39m\u001b[38;5;124;03m\"\"\"Initialize the plotter.\"\"\"\u001b[39;00m\n\u001b[1;32m-> 1530\u001b[0m     \u001b[38;5;28mself\u001b[39m\u001b[38;5;241m.\u001b[39mestablish_variables(x, y, hue, data, orient,\n\u001b[0;32m   1531\u001b[0m                              order, hue_order, units)\n\u001b[0;32m   1532\u001b[0m     \u001b[38;5;28mself\u001b[39m\u001b[38;5;241m.\u001b[39mestablish_colors(color, palette, saturation)\n\u001b[0;32m   1533\u001b[0m     \u001b[38;5;28mself\u001b[39m\u001b[38;5;241m.\u001b[39mestimate_statistic(estimator, errorbar, n_boot, seed)\n",
      "File \u001b[1;32m~\\anaconda3\\Lib\\site-packages\\seaborn\\categorical.py:541\u001b[0m, in \u001b[0;36m_CategoricalPlotter.establish_variables\u001b[1;34m(self, x, y, hue, data, orient, order, hue_order, units)\u001b[0m\n\u001b[0;32m    539\u001b[0m     \u001b[38;5;28;01mif\u001b[39;00m \u001b[38;5;28misinstance\u001b[39m(var, \u001b[38;5;28mstr\u001b[39m):\n\u001b[0;32m    540\u001b[0m         err \u001b[38;5;241m=\u001b[39m \u001b[38;5;124mf\u001b[39m\u001b[38;5;124m\"\u001b[39m\u001b[38;5;124mCould not interpret input \u001b[39m\u001b[38;5;124m'\u001b[39m\u001b[38;5;132;01m{\u001b[39;00mvar\u001b[38;5;132;01m}\u001b[39;00m\u001b[38;5;124m'\u001b[39m\u001b[38;5;124m\"\u001b[39m\n\u001b[1;32m--> 541\u001b[0m         \u001b[38;5;28;01mraise\u001b[39;00m \u001b[38;5;167;01mValueError\u001b[39;00m(err)\n\u001b[0;32m    543\u001b[0m \u001b[38;5;66;03m# Figure out the plotting orientation\u001b[39;00m\n\u001b[0;32m    544\u001b[0m orient \u001b[38;5;241m=\u001b[39m infer_orient(\n\u001b[0;32m    545\u001b[0m     x, y, orient, require_numeric\u001b[38;5;241m=\u001b[39m\u001b[38;5;28mself\u001b[39m\u001b[38;5;241m.\u001b[39mrequire_numeric\n\u001b[0;32m    546\u001b[0m )\n",
      "\u001b[1;31mValueError\u001b[0m: Could not interpret input 'WEATHER'"
     ]
    }
   ],
   "source": [
    "# Step 7: Bivariate Analysis\n",
    "# Severity vs Weather Condition\n",
    "sns.countplot(x='WEATHER', hue='SEVERITYCODE', data=df)\n",
    "plt.title('Severity vs Weather Condition')\n",
    "plt.xticks(rotation=90)\n",
    "plt.show()\n",
    "\n",
    "# Severity vs Road Condition\n",
    "sns.countplot(x='ROADCOND', hue='SEVERITYCODE', data=df)\n",
    "plt.title('Severity vs Road Condition')\n",
    "plt.xticks(rotation=90)\n",
    "plt.show()\n"
   ]
  },
  {
   "cell_type": "code",
   "execution_count": 9,
   "id": "e8e845f2",
   "metadata": {},
   "outputs": [
    {
     "ename": "KeyError",
     "evalue": "\"None of [Index(['SEVERITYCODE', 'WEATHER', 'ROADCOND'], dtype='object')] are in the [columns]\"",
     "output_type": "error",
     "traceback": [
      "\u001b[1;31m---------------------------------------------------------------------------\u001b[0m",
      "\u001b[1;31mKeyError\u001b[0m                                  Traceback (most recent call last)",
      "Cell \u001b[1;32mIn[9], line 3\u001b[0m\n\u001b[0;32m      1\u001b[0m \u001b[38;5;66;03m# Step 8: Multivariate Analysis\u001b[39;00m\n\u001b[0;32m      2\u001b[0m \u001b[38;5;66;03m# Pair plot for selected features (limited by categorical nature)\u001b[39;00m\n\u001b[1;32m----> 3\u001b[0m sns\u001b[38;5;241m.\u001b[39mpairplot(df[[\u001b[38;5;124m'\u001b[39m\u001b[38;5;124mSEVERITYCODE\u001b[39m\u001b[38;5;124m'\u001b[39m, \u001b[38;5;124m'\u001b[39m\u001b[38;5;124mWEATHER\u001b[39m\u001b[38;5;124m'\u001b[39m, \u001b[38;5;124m'\u001b[39m\u001b[38;5;124mROADCOND\u001b[39m\u001b[38;5;124m'\u001b[39m]])\n\u001b[0;32m      4\u001b[0m plt\u001b[38;5;241m.\u001b[39mshow()\n",
      "File \u001b[1;32m~\\anaconda3\\Lib\\site-packages\\pandas\\core\\frame.py:3767\u001b[0m, in \u001b[0;36mDataFrame.__getitem__\u001b[1;34m(self, key)\u001b[0m\n\u001b[0;32m   3765\u001b[0m     \u001b[38;5;28;01mif\u001b[39;00m is_iterator(key):\n\u001b[0;32m   3766\u001b[0m         key \u001b[38;5;241m=\u001b[39m \u001b[38;5;28mlist\u001b[39m(key)\n\u001b[1;32m-> 3767\u001b[0m     indexer \u001b[38;5;241m=\u001b[39m \u001b[38;5;28mself\u001b[39m\u001b[38;5;241m.\u001b[39mcolumns\u001b[38;5;241m.\u001b[39m_get_indexer_strict(key, \u001b[38;5;124m\"\u001b[39m\u001b[38;5;124mcolumns\u001b[39m\u001b[38;5;124m\"\u001b[39m)[\u001b[38;5;241m1\u001b[39m]\n\u001b[0;32m   3769\u001b[0m \u001b[38;5;66;03m# take() does not accept boolean indexers\u001b[39;00m\n\u001b[0;32m   3770\u001b[0m \u001b[38;5;28;01mif\u001b[39;00m \u001b[38;5;28mgetattr\u001b[39m(indexer, \u001b[38;5;124m\"\u001b[39m\u001b[38;5;124mdtype\u001b[39m\u001b[38;5;124m\"\u001b[39m, \u001b[38;5;28;01mNone\u001b[39;00m) \u001b[38;5;241m==\u001b[39m \u001b[38;5;28mbool\u001b[39m:\n",
      "File \u001b[1;32m~\\anaconda3\\Lib\\site-packages\\pandas\\core\\indexes\\base.py:5877\u001b[0m, in \u001b[0;36mIndex._get_indexer_strict\u001b[1;34m(self, key, axis_name)\u001b[0m\n\u001b[0;32m   5874\u001b[0m \u001b[38;5;28;01melse\u001b[39;00m:\n\u001b[0;32m   5875\u001b[0m     keyarr, indexer, new_indexer \u001b[38;5;241m=\u001b[39m \u001b[38;5;28mself\u001b[39m\u001b[38;5;241m.\u001b[39m_reindex_non_unique(keyarr)\n\u001b[1;32m-> 5877\u001b[0m \u001b[38;5;28mself\u001b[39m\u001b[38;5;241m.\u001b[39m_raise_if_missing(keyarr, indexer, axis_name)\n\u001b[0;32m   5879\u001b[0m keyarr \u001b[38;5;241m=\u001b[39m \u001b[38;5;28mself\u001b[39m\u001b[38;5;241m.\u001b[39mtake(indexer)\n\u001b[0;32m   5880\u001b[0m \u001b[38;5;28;01mif\u001b[39;00m \u001b[38;5;28misinstance\u001b[39m(key, Index):\n\u001b[0;32m   5881\u001b[0m     \u001b[38;5;66;03m# GH 42790 - Preserve name from an Index\u001b[39;00m\n",
      "File \u001b[1;32m~\\anaconda3\\Lib\\site-packages\\pandas\\core\\indexes\\base.py:5938\u001b[0m, in \u001b[0;36mIndex._raise_if_missing\u001b[1;34m(self, key, indexer, axis_name)\u001b[0m\n\u001b[0;32m   5936\u001b[0m     \u001b[38;5;28;01mif\u001b[39;00m use_interval_msg:\n\u001b[0;32m   5937\u001b[0m         key \u001b[38;5;241m=\u001b[39m \u001b[38;5;28mlist\u001b[39m(key)\n\u001b[1;32m-> 5938\u001b[0m     \u001b[38;5;28;01mraise\u001b[39;00m \u001b[38;5;167;01mKeyError\u001b[39;00m(\u001b[38;5;124mf\u001b[39m\u001b[38;5;124m\"\u001b[39m\u001b[38;5;124mNone of [\u001b[39m\u001b[38;5;132;01m{\u001b[39;00mkey\u001b[38;5;132;01m}\u001b[39;00m\u001b[38;5;124m] are in the [\u001b[39m\u001b[38;5;132;01m{\u001b[39;00maxis_name\u001b[38;5;132;01m}\u001b[39;00m\u001b[38;5;124m]\u001b[39m\u001b[38;5;124m\"\u001b[39m)\n\u001b[0;32m   5940\u001b[0m not_found \u001b[38;5;241m=\u001b[39m \u001b[38;5;28mlist\u001b[39m(ensure_index(key)[missing_mask\u001b[38;5;241m.\u001b[39mnonzero()[\u001b[38;5;241m0\u001b[39m]]\u001b[38;5;241m.\u001b[39munique())\n\u001b[0;32m   5941\u001b[0m \u001b[38;5;28;01mraise\u001b[39;00m \u001b[38;5;167;01mKeyError\u001b[39;00m(\u001b[38;5;124mf\u001b[39m\u001b[38;5;124m\"\u001b[39m\u001b[38;5;132;01m{\u001b[39;00mnot_found\u001b[38;5;132;01m}\u001b[39;00m\u001b[38;5;124m not in index\u001b[39m\u001b[38;5;124m\"\u001b[39m)\n",
      "\u001b[1;31mKeyError\u001b[0m: \"None of [Index(['SEVERITYCODE', 'WEATHER', 'ROADCOND'], dtype='object')] are in the [columns]\""
     ]
    }
   ],
   "source": [
    "# Step 8: Multivariate Analysis\n",
    "# Pair plot for selected features (limited by categorical nature)\n",
    "sns.pairplot(df[['SEVERITYCODE', 'WEATHER', 'ROADCOND']])\n",
    "plt.show()\n"
   ]
  },
  {
   "cell_type": "markdown",
   "id": "24ad647e",
   "metadata": {},
   "source": [
    "Step 9: Identify and Handle Outliers\n",
    "This dataset is primarily categorical, so traditional numerical outlier detection may not apply. However, checking for rare or unusual categories can be informative."
   ]
  },
  {
   "cell_type": "code",
   "execution_count": null,
   "id": "7d639365",
   "metadata": {},
   "outputs": [],
   "source": [
    "# Step 10: Feature Engineering\n",
    "# Extract additional features\n",
    "df['MONTH'] = pd.to_datetime(df['DATETIME']).dt.month\n",
    "df['HOUR'] = pd.to_datetime(df['DATETIME']).dt.hour\n"
   ]
  },
  {
   "cell_type": "code",
   "execution_count": null,
   "id": "6b179c28",
   "metadata": {},
   "outputs": [],
   "source": [
    "# Step 11: Summary and Insights\n",
    "# Summarize key findings\n",
    "print(\"Key Insights:\")\n",
    "\n",
    "# Severity distribution\n",
    "severity_dist = df['SEVERITYCODE'].value_counts()\n",
    "print(f\"Severity Distribution:\\n{severity_dist}\")\n",
    "\n",
    "# Weather condition distribution\n",
    "weather_dist = df['WEATHER'].value_counts()\n",
    "print(f\"Weather Condition Distribution:\\n{weather_dist}\")\n",
    "\n",
    "# Road condition distribution\n",
    "road_cond_dist = df['ROADCOND'].value_counts()\n",
    "print(f\"Road Condition Distribution:\\n{road_cond_dist}\")\n",
    "\n",
    "# Collisions over time\n",
    "collisions_over_time = df.groupby('DATE').size().describe()\n",
    "print(f\"Collisions Over Time:\\n{collisions_over_time}\")\n",
    "\n",
    "# Severity by weather condition\n",
    "severity_weather = df.groupby('WEATHER')['SEVERITYCODE'].value_counts().unstack()\n",
    "print(f\"Severity by Weather Condition:\\n{severity_weather}\")\n",
    "\n",
    "# Severity by road condition\n",
    "severity_road_cond = df.groupby('ROADCOND')['SEVERITYCODE'].value_counts().unstack()\n",
    "print(f\"Severity by Road Condition:\\n{severity_road_cond}\")\n"
   ]
  },
  {
   "cell_type": "markdown",
   "id": "af3bc3d4",
   "metadata": {},
   "source": [
    "Findings:\n",
    "1. Collision Severity: The dataset shows how collisions are distributed across different severity levels.\n",
    "2. Weather and Road Conditions: Certain weather and road conditions are associated with higher or lower severity of collisions.\n",
    "3. Temporal Trends: Collisions show patterns over time, with certain days or months possibly exhibiting higher frequencies.\n",
    "4. Seasonal and Daily Patterns: Understanding these patterns can help in traffic management and accident prevention strategies."
   ]
  },
  {
   "cell_type": "code",
   "execution_count": null,
   "id": "c80707a9",
   "metadata": {},
   "outputs": [],
   "source": []
  },
  {
   "cell_type": "code",
   "execution_count": null,
   "id": "038160a1",
   "metadata": {},
   "outputs": [],
   "source": []
  },
  {
   "cell_type": "code",
   "execution_count": null,
   "id": "2458b817",
   "metadata": {},
   "outputs": [],
   "source": []
  }
 ],
 "metadata": {
  "kernelspec": {
   "display_name": "Python 3 (ipykernel)",
   "language": "python",
   "name": "python3"
  },
  "language_info": {
   "codemirror_mode": {
    "name": "ipython",
    "version": 3
   },
   "file_extension": ".py",
   "mimetype": "text/x-python",
   "name": "python",
   "nbconvert_exporter": "python",
   "pygments_lexer": "ipython3",
   "version": "3.11.5"
  }
 },
 "nbformat": 4,
 "nbformat_minor": 5
}
